{
  "nbformat": 4,
  "nbformat_minor": 0,
  "metadata": {
    "colab": {
      "provenance": []
    },
    "kernelspec": {
      "name": "python3",
      "display_name": "Python 3"
    },
    "language_info": {
      "name": "python"
    }
  },
  "cells": [
    {
      "cell_type": "code",
      "execution_count": null,
      "metadata": {
        "colab": {
          "base_uri": "https://localhost:8080/"
        },
        "id": "UvV2XlTQbwan",
        "outputId": "55f0c1c3-2be9-4ee8-f9d6-d5a69b3f917b"
      },
      "outputs": [
        {
          "output_type": "stream",
          "name": "stdout",
          "text": [
            "Hit:1 https://cloud.r-project.org/bin/linux/ubuntu bionic-cran40/ InRelease\n",
            "Ign:2 https://developer.download.nvidia.com/compute/machine-learning/repos/ubuntu1804/x86_64  InRelease\n",
            "Hit:3 https://developer.download.nvidia.com/compute/cuda/repos/ubuntu1804/x86_64  InRelease\n",
            "Hit:4 http://ppa.launchpad.net/c2d4u.team/c2d4u4.0+/ubuntu bionic InRelease\n",
            "Get:5 http://security.ubuntu.com/ubuntu bionic-security InRelease [88.7 kB]\n",
            "Hit:6 https://developer.download.nvidia.com/compute/machine-learning/repos/ubuntu1804/x86_64  Release\n",
            "Hit:7 http://archive.ubuntu.com/ubuntu bionic InRelease\n",
            "Get:8 http://archive.ubuntu.com/ubuntu bionic-updates InRelease [88.7 kB]\n",
            "Hit:9 http://ppa.launchpad.net/cran/libgit2/ubuntu bionic InRelease\n",
            "Hit:10 http://ppa.launchpad.net/deadsnakes/ppa/ubuntu bionic InRelease\n",
            "Get:11 http://archive.ubuntu.com/ubuntu bionic-backports InRelease [83.3 kB]\n",
            "Hit:12 http://ppa.launchpad.net/graphics-drivers/ppa/ubuntu bionic InRelease\n",
            "Get:14 http://security.ubuntu.com/ubuntu bionic-security/universe amd64 Packages [1,563 kB]\n",
            "Fetched 1,823 kB in 3s (654 kB/s)\n",
            "Reading package lists... Done\n",
            "Building dependency tree       \n",
            "Reading state information... Done\n",
            "9 packages can be upgraded. Run 'apt list --upgradable' to see them.\n",
            "Looking in indexes: https://pypi.org/simple, https://us-python.pkg.dev/colab-wheels/public/simple/\n",
            "Requirement already satisfied: isbnlib in /usr/local/lib/python3.7/dist-packages (3.10.12)\n"
          ]
        }
      ],
      "source": [
        "!apt update\n",
        "!apt-get install openjdk-8-jdk-headless -qq > /dev/null  \n",
        "!wget -q https://dlcdn.apache.org/spark/spark-3.3.1/spark-3.3.1-bin-hadoop3.tgz\n",
        "!tar xf spark-3.3.1-bin-hadoop3.tgz  \n",
        "!pip install -q findspark\n",
        "!pip install isbnlib\n",
        "\n",
        "import os\n",
        "os.environ[\"JAVA_HOME\"] = \"/usr/lib/jvm/java-8-openjdk-amd64\"\n",
        "os.environ[\"SPARK_HOME\"] = \"/content/spark-3.3.1-bin-hadoop3\""
      ]
    },
    {
      "cell_type": "code",
      "source": [
        "import findspark\n",
        "findspark.init(\"spark-3.3.1-bin-hadoop3\")\n",
        "from pyspark.sql import SparkSession\n",
        "spark = SparkSession.builder.master(\"local[*]\").getOrCreate()\n",
        "from pyspark.sql import Row\n",
        "import pyspark.sql.functions as f\n",
        "from pyspark.sql.functions import format_number\n",
        "from pyspark.sql.functions import col, split, when\n",
        "import pandas as pd\n",
        "spark = SparkSession.builder.appName(\"Basic\").getOrCreate()\n",
        "import requests as req\n",
        "from pyspark.sql.functions import regexp_replace\n",
        "from pyspark.sql.functions import ltrim\n",
        "from pyspark.sql.functions import *\n",
        "from functools import reduce\n",
        "from pyspark.sql import DataFrame\n",
        "from isbnlib import is_isbn10, is_isbn13\n",
        "from pyspark.sql.types import StructType, StructField, IntegerType, StringType\n",
        "import re\n",
        "from pyspark.sql.functions import col,isnan,when,count\n",
        "from pyspark.sql.functions import row_number, monotonically_increasing_id\n",
        "from pyspark.sql import Window\n",
        "from pyspark.sql.functions import trim\n",
        "import pandas as pd"
      ],
      "metadata": {
        "id": "1bco_snjb-Z2"
      },
      "execution_count": null,
      "outputs": []
    },
    {
      "cell_type": "code",
      "execution_count": null,
      "metadata": {
        "colab": {
          "base_uri": "https://localhost:8080/"
        },
        "id": "xcobaLkCCSWY",
        "outputId": "a2f4c4a4-0636-464a-f63d-cac3bd5214e8"
      },
      "outputs": [
        {
          "output_type": "stream",
          "name": "stdout",
          "text": [
            "Mounted at /content/drive\n"
          ]
        }
      ],
      "source": [
        "from google.colab import drive\n",
        "drive.mount('/content/drive')"
      ]
    },
    {
      "cell_type": "code",
      "execution_count": null,
      "metadata": {
        "id": "Uupa5k4YDUba",
        "colab": {
          "base_uri": "https://localhost:8080/"
        },
        "outputId": "e7207354-c405-47ba-8fd7-7f472c606b49"
      },
      "outputs": [
        {
          "output_type": "stream",
          "name": "stdout",
          "text": [
            "+---------------------------------------------------------------------------------------------------------------------------------------------------------------------------------------------------------------------------------------------------------------------------------------------------------------------------------------------------------------+\n",
            "|\"ISBN\";\"Book-Title\";\"Book-Author\";\"Year-Of-Publication\";\"Publisher\";\"Image-URL-S\";\"Image-URL-M\";\"Image-URL-L\"                                                                                                                                                                                                                                                  |\n",
            "+---------------------------------------------------------------------------------------------------------------------------------------------------------------------------------------------------------------------------------------------------------------------------------------------------------------------------------------------------------------+\n",
            "|\"0195153448\";\"Classical Mythology\";\"Mark P. O. Morford\";\"2002\";\"Oxford University Press\";\"http://images.amazon.com/images/P/0195153448.01.THUMBZZZ.jpg\";\"http://images.amazon.com/images/P/0195153448.01.MZZZZZZZ.jpg\";\"http://images.amazon.com/images/P/0195153448.01.LZZZZZZZ.jpg\"                                                                          |\n",
            "|\"0002005018\";\"Clara Callan\";\"Richard Bruce Wright\";\"2001\";\"HarperFlamingo Canada\";\"http://images.amazon.com/images/P/0002005018.01.THUMBZZZ.jpg\";\"http://images.amazon.com/images/P/0002005018.01.MZZZZZZZ.jpg\";\"http://images.amazon.com/images/P/0002005018.01.LZZZZZZZ.jpg\"                                                                                 |\n",
            "|\"0060973129\";\"Decision in Normandy\";\"Carlo D'Este\";\"1991\";\"HarperPerennial\";\"http://images.amazon.com/images/P/0060973129.01.THUMBZZZ.jpg\";\"http://images.amazon.com/images/P/0060973129.01.MZZZZZZZ.jpg\";\"http://images.amazon.com/images/P/0060973129.01.LZZZZZZZ.jpg\"                                                                                       |\n",
            "|\"0374157065\";\"Flu: The Story of the Great Influenza Pandemic of 1918 and the Search for the Virus That Caused It\";\"Gina Bari Kolata\";\"1999\";\"Farrar Straus Giroux\";\"http://images.amazon.com/images/P/0374157065.01.THUMBZZZ.jpg\";\"http://images.amazon.com/images/P/0374157065.01.MZZZZZZZ.jpg\";\"http://images.amazon.com/images/P/0374157065.01.LZZZZZZZ.jpg\"|\n",
            "|\"0393045218\";\"The Mummies of Urumchi\";\"E. J. W. Barber\";\"1999\";\"W. W. Norton &amp; Company\";\"http://images.amazon.com/images/P/0393045218.01.THUMBZZZ.jpg\";\"http://images.amazon.com/images/P/0393045218.01.MZZZZZZZ.jpg\";\"http://images.amazon.com/images/P/0393045218.01.LZZZZZZZ.jpg\"                                                                       |\n",
            "|\"0399135782\";\"The Kitchen God's Wife\";\"Amy Tan\";\"1991\";\"Putnam Pub Group\";\"http://images.amazon.com/images/P/0399135782.01.THUMBZZZ.jpg\";\"http://images.amazon.com/images/P/0399135782.01.MZZZZZZZ.jpg\";\"http://images.amazon.com/images/P/0399135782.01.LZZZZZZZ.jpg\"                                                                                         |\n",
            "|\"0425176428\";\"What If?: The World's Foremost Military Historians Imagine What Might Have Been\";\"Robert Cowley\";\"2000\";\"Berkley Publishing Group\";\"http://images.amazon.com/images/P/0425176428.01.THUMBZZZ.jpg\";\"http://images.amazon.com/images/P/0425176428.01.MZZZZZZZ.jpg\";\"http://images.amazon.com/images/P/0425176428.01.LZZZZZZZ.jpg\"                  |\n",
            "|\"0671870432\";\"PLEADING GUILTY\";\"Scott Turow\";\"1993\";\"Audioworks\";\"http://images.amazon.com/images/P/0671870432.01.THUMBZZZ.jpg\";\"http://images.amazon.com/images/P/0671870432.01.MZZZZZZZ.jpg\";\"http://images.amazon.com/images/P/0671870432.01.LZZZZZZZ.jpg\"                                                                                                  |\n",
            "|\"0679425608\";\"Under the Black Flag: The Romance and the Reality of Life Among the Pirates\";\"David Cordingly\";\"1996\";\"Random House\";\"http://images.amazon.com/images/P/0679425608.01.THUMBZZZ.jpg\";\"http://images.amazon.com/images/P/0679425608.01.MZZZZZZZ.jpg\";\"http://images.amazon.com/images/P/0679425608.01.LZZZZZZZ.jpg\"                                |\n",
            "|\"074322678X\";\"Where You'll Find Me: And Other Stories\";\"Ann Beattie\";\"2002\";\"Scribner\";\"http://images.amazon.com/images/P/074322678X.01.THUMBZZZ.jpg\";\"http://images.amazon.com/images/P/074322678X.01.MZZZZZZZ.jpg\";\"http://images.amazon.com/images/P/074322678X.01.LZZZZZZZ.jpg\"                                                                            |\n",
            "|\"0771074670\";\"Nights Below Station Street\";\"David Adams Richards\";\"1988\";\"Emblem Editions\";\"http://images.amazon.com/images/P/0771074670.01.THUMBZZZ.jpg\";\"http://images.amazon.com/images/P/0771074670.01.MZZZZZZZ.jpg\";\"http://images.amazon.com/images/P/0771074670.01.LZZZZZZZ.jpg\"                                                                        |\n",
            "|\"080652121X\";\"Hitler's Secret Bankers: The Myth of Swiss Neutrality During the Holocaust\";\"Adam Lebor\";\"2000\";\"Citadel Press\";\"http://images.amazon.com/images/P/080652121X.01.THUMBZZZ.jpg\";\"http://images.amazon.com/images/P/080652121X.01.MZZZZZZZ.jpg\";\"http://images.amazon.com/images/P/080652121X.01.LZZZZZZZ.jpg\"                                     |\n",
            "|\"0887841740\";\"The Middle Stories\";\"Sheila Heti\";\"2004\";\"House of Anansi Press\";\"http://images.amazon.com/images/P/0887841740.01.THUMBZZZ.jpg\";\"http://images.amazon.com/images/P/0887841740.01.MZZZZZZZ.jpg\";\"http://images.amazon.com/images/P/0887841740.01.LZZZZZZZ.jpg\"                                                                                    |\n",
            "|\"1552041778\";\"Jane Doe\";\"R. J. Kaiser\";\"1999\";\"Mira Books\";\"http://images.amazon.com/images/P/1552041778.01.THUMBZZZ.jpg\";\"http://images.amazon.com/images/P/1552041778.01.MZZZZZZZ.jpg\";\"http://images.amazon.com/images/P/1552041778.01.LZZZZZZZ.jpg\"                                                                                                        |\n",
            "|\"1558746218\";\"A Second Chicken Soup for the Woman's Soul (Chicken Soup for the Soul Series)\";\"Jack Canfield\";\"1998\";\"Health Communications\";\"http://images.amazon.com/images/P/1558746218.01.THUMBZZZ.jpg\";\"http://images.amazon.com/images/P/1558746218.01.MZZZZZZZ.jpg\";\"http://images.amazon.com/images/P/1558746218.01.LZZZZZZZ.jpg\"                       |\n",
            "|\"1567407781\";\"The Witchfinder (Amos Walker Mystery Series)\";\"Loren D. Estleman\";\"1998\";\"Brilliance Audio - Trade\";\"http://images.amazon.com/images/P/1567407781.01.THUMBZZZ.jpg\";\"http://images.amazon.com/images/P/1567407781.01.MZZZZZZZ.jpg\";\"http://images.amazon.com/images/P/1567407781.01.LZZZZZZZ.jpg\"                                                 |\n",
            "|\"1575663937\";\"More Cunning Than Man: A Social History of Rats and Man\";\"Robert Hendrickson\";\"1999\";\"Kensington Publishing Corp.\";\"http://images.amazon.com/images/P/1575663937.01.THUMBZZZ.jpg\";\"http://images.amazon.com/images/P/1575663937.01.MZZZZZZZ.jpg\";\"http://images.amazon.com/images/P/1575663937.01.LZZZZZZZ.jpg\"                                  |\n",
            "|\"1881320189\";\"Goodbye to the Buttermilk Sky\";\"Julia Oliver\";\"1994\";\"River City Pub\";\"http://images.amazon.com/images/P/1881320189.01.THUMBZZZ.jpg\";\"http://images.amazon.com/images/P/1881320189.01.MZZZZZZZ.jpg\";\"http://images.amazon.com/images/P/1881320189.01.LZZZZZZZ.jpg\"                                                                               |\n",
            "|\"0440234743\";\"The Testament\";\"John Grisham\";\"1999\";\"Dell\";\"http://images.amazon.com/images/P/0440234743.01.THUMBZZZ.jpg\";\"http://images.amazon.com/images/P/0440234743.01.MZZZZZZZ.jpg\";\"http://images.amazon.com/images/P/0440234743.01.LZZZZZZZ.jpg\"                                                                                                         |\n",
            "|\"0452264464\";\"Beloved (Plume Contemporary Fiction)\";\"Toni Morrison\";\"1994\";\"Plume\";\"http://images.amazon.com/images/P/0452264464.01.THUMBZZZ.jpg\";\"http://images.amazon.com/images/P/0452264464.01.MZZZZZZZ.jpg\";\"http://images.amazon.com/images/P/0452264464.01.LZZZZZZZ.jpg\"                                                                                |\n",
            "+---------------------------------------------------------------------------------------------------------------------------------------------------------------------------------------------------------------------------------------------------------------------------------------------------------------------------------------------------------------+\n",
            "only showing top 20 rows\n",
            "\n"
          ]
        }
      ],
      "source": [
        "Books = spark.read.option(\"header\", True).csv('/content/drive/MyDrive/Books_Rating/DataBase/BX-Books.csv')\n",
        "Books.show(truncate = False)"
      ]
    },
    {
      "cell_type": "code",
      "execution_count": null,
      "metadata": {
        "id": "XM97ozsyDUXi"
      },
      "outputs": [],
      "source": [
        "Books = Books.withColumnRenamed('\"ISBN\";\"Book-Title\";\"Book-Author\";\"Year-Of-Publication\";\"Publisher\";\"Image-URL-S\";\"Image-URL-M\";\"Image-URL-L\"', \"xx\")\n",
        "Books = Books.withColumn('xx', regexp_replace('xx', '\"', ''))"
      ]
    },
    {
      "cell_type": "code",
      "execution_count": null,
      "metadata": {
        "id": "_kbODKEWDUTx"
      },
      "outputs": [],
      "source": [
        "Books = Books.withColumn('BookNumber', split(Books['xx'], ';').getItem(0)) \\\n",
        "       .withColumn('BookName', split(Books['xx'], ';').getItem(1)) \\\n",
        "       .withColumn('Author', split(Books['xx'], ';').getItem(2)) \\\n",
        "       .withColumn('Year', split(Books['xx'], ';').getItem(3)) \\\n",
        "       .withColumn('Publisher', split(Books['xx'], ';').getItem(4)) \\\n",
        "       .withColumn('one', split(Books['xx'], ';').getItem(5)) \\\n",
        "       .withColumn('two', split(Books['xx'], ';').getItem(6)) \\\n",
        "       .withColumn('three', split(Books['xx'], ';').getItem(7)) \\\n",
        "       .withColumn('four', split(Books['xx'], ';').getItem(8)).drop(\"xx\")\n",
        "Books = Books.na.fill({'Author': 'unknown','Year': 0, 'Publisher': 'unknown'})"
      ]
    },
    {
      "cell_type": "code",
      "source": [
        "Books.where(\"Publisher like '%Penny Frank%' \").show()"
      ],
      "metadata": {
        "colab": {
          "base_uri": "https://localhost:8080/"
        },
        "id": "uKnTVyuVBIJz",
        "outputId": "4f0f9859-5640-4bcb-a1b7-cf7c1b31b668"
      },
      "execution_count": null,
      "outputs": [
        {
          "output_type": "stream",
          "name": "stdout",
          "text": [
            "+----------+--------+------+----+---------+---+---+-----+----+\n",
            "|BookNumber|BookName|Author|Year|Publisher|one|two|three|four|\n",
            "+----------+--------+------+----+---------+---+---+-----+----+\n",
            "+----------+--------+------+----+---------+---+---+-----+----+\n",
            "\n"
          ]
        }
      ]
    },
    {
      "cell_type": "code",
      "source": [
        "t = Books.where(\"rlike(Year,'^[a-zA-Z]*$')\")\n",
        "u = Books.where(\"Year BETWEEN 0 AND 2050\")\n",
        "v = Books.where(\"Publisher BETWEEN 0 AND 2050\")\n",
        "w = Books.where(\"one BETWEEN 0 AND 2050\")\n",
        "x = Books.where(\"two BETWEEN 0 AND 2050\")\n",
        "y = Books.where(\"three BETWEEN 0 AND 2050\")\n",
        "z = Books.where(\"four BETWEEN 0 AND 2050\")\n",
        "xx = t.where(\"Publisher BETWEEN 0 AND 2050\")\n",
        "zz = t.where(\"one BETWEEN 0 AND 2050\")"
      ],
      "metadata": {
        "id": "CJrTEi2DnzYW"
      },
      "execution_count": null,
      "outputs": []
    },
    {
      "cell_type": "code",
      "source": [
        "u = u.drop(\"Publisher\", \"one\", \"two\", \"three\", \"four\").withColumn(\"Year\",col(\"Year\").cast(\"int\"))\n",
        "\n",
        "v = v.withColumnRenamed(\"Author\", \"BookName2\").withColumnRenamed(\"Year\", \"Author\").withColumnRenamed(\"Publisher\", \"Year\").withColumnRenamed(\"one\", \"Publisher\") \\\n",
        "    .withColumn(\"BookName\",concat(col(\"BookName\"),lit(' -'),col(\"BookName2\"))).drop(\"BookName2\",\"Publisher\", \"two\", \"three\", \"four\").withColumn(\"Year\",col(\"Year\").cast(\"int\"))\n",
        "\n",
        "w = w.withColumnRenamed(\"Author\", \"BookName2\").withColumnRenamed(\"Year\", \"Author\").withColumnRenamed(\"Publisher\", \"Author2\").withColumnRenamed(\"one\", \"Year\") \\\n",
        "    .withColumnRenamed(\"two\", \"Publisher\").withColumn(\"BookName\",concat(col(\"BookName\"),lit(' -'),col(\"BookName2\"))).withColumn(\"Author\",concat(col(\"Author\"),lit(' -'),col(\"Author2\"))) \\\n",
        "    .drop(\"BookName2\",\"Author2\",\"Publisher\", \"three\", \"four\").withColumn(\"Year\",col(\"Year\").cast(\"int\"))\n",
        "\n",
        "x = x.withColumnRenamed(\"Author\", \"BookName2\").withColumnRenamed(\"Year\", \"Author\").withColumnRenamed(\"Publisher\", \"Author2\").withColumnRenamed(\"one\", \"Author3\").withColumnRenamed(\"two\", \"Year\") \\\n",
        "    .withColumnRenamed(\"three\", \"Publisher\").withColumn(\"BookName\",concat(col(\"BookName\"),lit(' -'),col(\"BookName2\"))).withColumn(\"Author\",concat(col(\"Author\"),lit(' -'),col(\"Author2\"))) \\\n",
        "    .withColumn(\"Author\",concat(col(\"Author\"),lit(' -'),col(\"Author3\"))).drop(\"BookName2\",\"Author2\",\"Author3\",\"Publisher\",\"four\").withColumn(\"Year\",col(\"Year\").cast(\"int\"))\n",
        "\n",
        "y = y.withColumnRenamed(\"Author\", \"BookName2\").withColumnRenamed(\"Year\", \"BookName3\").withColumnRenamed(\"Publisher\", \"Author\").withColumnRenamed(\"one\", \"Author2\").withColumnRenamed(\"two\", \"Author3\") \\\n",
        "    .withColumnRenamed(\"three\", \"Year\").withColumnRenamed(\"four\", \"Publisher\").withColumn(\"BookName\",concat(col(\"BookName\"),lit(' -'),col(\"BookName2\"))) \\\n",
        "    .withColumn(\"BookName\",concat(col(\"BookName\"),lit(' -'),col(\"BookName3\"))).withColumn(\"Author\",concat(col(\"Author\"),lit(' -'),col(\"Author2\"))) \\\n",
        "    .withColumn(\"Author\",concat(col(\"Author\"),lit(' -'),col(\"Author3\"))).drop(\"BookName2\",\"BookName3\",\"Author2\",\"Author3\",\"Publisher\").withColumn(\"Year\",col(\"Year\").cast(\"int\"))\n",
        "\n",
        "z = z.withColumnRenamed(\"Author\", \"BookName2\").withColumnRenamed(\"Year\", \"BookName3\").withColumnRenamed(\"Publisher\", \"Author\").withColumnRenamed(\"one\", \"Author2\").withColumnRenamed(\"two\", \"Author3\") \\\n",
        "    .withColumnRenamed(\"three\", \"Author4\").withColumnRenamed(\"four\", \"Year\").withColumn(\"BookName\",concat(col(\"BookName\"),lit(' -'),col(\"BookName2\"))) \\\n",
        "    .withColumn(\"BookName\",concat(col(\"BookName\"),lit(' -'),col(\"BookName3\"))).withColumn(\"Author\",concat(col(\"Author\"),lit(' -'),col(\"Author2\"))).withColumn(\"Author\",concat(col(\"Author\"),lit(' -'),col(\"Author3\"))) \\\n",
        "    .withColumn(\"Author\",concat(col(\"Author\"),lit(' -'),col(\"Author4\"))).drop(\"BookName2\",\"BookName3\",\"Author2\",\"Author3\",\"Author4\").withColumn(\"Year\",col(\"Year\").cast(\"int\"))\n",
        "\n",
        "xx = xx.withColumnRenamed(\"Author\", \"BookName2\").withColumnRenamed(\"Year\", \"Author\").withColumnRenamed(\"Publisher\", \"Year\").withColumnRenamed(\"one\", \"Publisher\") \\\n",
        "    .withColumn(\"BookName\",concat(col(\"BookName\"),lit(' -'),col(\"BookName2\"))).drop(\"BookName2\",\"Publisher\", \"two\", \"three\", \"four\").withColumn(\"Year\",col(\"Year\").cast(\"int\"))\n",
        "\n",
        "zz = zz.withColumnRenamed(\"Author\", \"BookName2\").withColumnRenamed(\"Year\", \"Author\").withColumnRenamed(\"Publisher\", \"Author2\").withColumnRenamed(\"one\", \"Year\") \\\n",
        "    .withColumnRenamed(\"two\", \"Publisher\").withColumn(\"BookName\",concat(col(\"BookName\"),lit(' -'),col(\"BookName2\"))).withColumn(\"Author\",concat(col(\"Author\"),lit(' -'),col(\"Author2\"))) \\\n",
        "    .drop(\"BookName2\",\"Author2\",\"Publisher\", \"three\", \"four\").withColumn(\"Year\",col(\"Year\").cast(\"int\"))               "
      ],
      "metadata": {
        "id": "uHreROagULBg"
      },
      "execution_count": null,
      "outputs": []
    },
    {
      "cell_type": "code",
      "source": [
        "df = [u,v,w,x,y,z,xx,zz]\n",
        "Books = reduce(DataFrame.unionAll, df)"
      ],
      "metadata": {
        "id": "LGlpUripEIbQ"
      },
      "execution_count": null,
      "outputs": []
    },
    {
      "cell_type": "code",
      "execution_count": null,
      "metadata": {
        "id": "TtHq9t5uMiY6"
      },
      "outputs": [],
      "source": [
        "Books = Books.na.fill(value=0,subset=[\"Year\"]).withColumn(\"BookNumber\",ltrim(col(\"BookNumber\"))).withColumn(\"BookName\",ltrim(col(\"BookName\"))) \\\n",
        "        .withColumn(\"Author\",ltrim(col(\"Author\"))).withColumn(\"Year\",ltrim(col(\"Year\"))).withColumn('BookName', regexp_replace('BookName', \"$\", '')) \\\n",
        "        .withColumn('BookName', regexp_replace('BookName', \"#\", '')).withColumn('BookName', regexp_replace('BookName', \"�\", '')) \\\n",
        "        .withColumn('BookName', regexp_replace('BookName', \"-\", '')).withColumn('BookName', regexp_replace('BookName', \"¿\", '')) \\\n",
        "        .withColumn('BookName', regexp_replace('BookName', \"°\", '')).withColumn('BookName', regexp_replace('BookName', \"¶\", '')) \\\n",
        "        .withColumn('BookName', regexp_replace('BookName', '/', '')).withColumn('BookName', regexp_replace('BookName', \"\\*\", '')) \\\n",
        "        .withColumn('BookName', regexp_replace('BookName', \"\\+\", ''))\n",
        "Books = Books.select([f.col(col).alias(re.sub(\"-\",\"_\",col)) for col in Books.columns])\n",
        "Books = Books.select([f.col(col).alias(re.sub(\"[^0-9a-zA-Z_$]+\",\"\",col)) for col in Books.columns])"
      ]
    },
    {
      "cell_type": "code",
      "source": [
        "ValidISBN = []\n",
        "InvalidISBN = []\n",
        "\n",
        "row_listBOOKS = Books.collect()\n",
        "\n",
        "for i in row_listBOOKS:\n",
        "  if (is_isbn10(i.__getitem__('BookNumber')) == True):\n",
        "    ValidISBN.append(i)\n",
        "  else:\n",
        "    InvalidISBN.append(i) \n",
        "\n",
        "InvalidISBN_ONLY = []\n",
        "for i in InvalidISBN:\n",
        "  InvalidISBN_ONLY.append(i.__getitem__('BookNumber')) \n",
        "\n",
        "Books = Books.filter(~col('BookNumber').isin(InvalidISBN_ONLY))"
      ],
      "metadata": {
        "id": "rjzpGZfjHBP4"
      },
      "execution_count": null,
      "outputs": []
    },
    {
      "cell_type": "code",
      "source": [
        "Books = Books.withColumnRenamed('BookNumber', 'BookBK')\n",
        "Books = Books.withColumn(\"Year\", when(Books.Year < 1000 ,0).when(Books.Year > 2022 ,0).otherwise(Books.Year))\n",
        "Books = Books.withColumn(\"BookSK\",row_number().over(Window.orderBy(monotonically_increasing_id()))+100)\n",
        "DIM_BOOKS = Books.select('BookSK', 'BookBK', 'BookName', 'Author', 'Year')\n",
        "\n",
        "\n",
        "DIM_BOOKS.show(truncate = False)\n",
        "DIM_BOOKS.describe().show()"
      ],
      "metadata": {
        "colab": {
          "base_uri": "https://localhost:8080/"
        },
        "id": "M4RrRNluIGiy",
        "outputId": "b75f042c-6790-4256-8356-a5fe9a712c76"
      },
      "execution_count": null,
      "outputs": [
        {
          "output_type": "stream",
          "name": "stdout",
          "text": [
            "+------+----------+--------------------------------------------------------------------------------------------------+--------------------+----+\n",
            "|BookSK|BookBK    |BookName                                                                                          |Author              |Year|\n",
            "+------+----------+--------------------------------------------------------------------------------------------------+--------------------+----+\n",
            "|101   |0195153448|Classical Mythology                                                                               |Mark P. O. Morford  |2002|\n",
            "|102   |0002005018|Clara Callan                                                                                      |Richard Bruce Wright|2001|\n",
            "|103   |0060973129|Decision in Normandy                                                                              |Carlo D'Este        |1991|\n",
            "|104   |0374157065|Flu: The Story of the Great Influenza Pandemic of 1918 and the Search for the Virus That Caused It|Gina Bari Kolata    |1999|\n",
            "|105   |0393045218|The Mummies of Urumchi                                                                            |E. J. W. Barber     |1999|\n",
            "|106   |0399135782|The Kitchen God's Wife                                                                            |Amy Tan             |1991|\n",
            "|107   |0425176428|What If?: The World's Foremost Military Historians Imagine What Might Have Been                   |Robert Cowley       |2000|\n",
            "|108   |0671870432|PLEADING GUILTY                                                                                   |Scott Turow         |1993|\n",
            "|109   |0679425608|Under the Black Flag: The Romance and the Reality of Life Among the Pirates                       |David Cordingly     |1996|\n",
            "|110   |074322678X|Where You'll Find Me: And Other Stories                                                           |Ann Beattie         |2002|\n",
            "|111   |0771074670|Nights Below Station Street                                                                       |David Adams Richards|1988|\n",
            "|112   |080652121X|Hitler's Secret Bankers: The Myth of Swiss Neutrality During the Holocaust                        |Adam Lebor          |2000|\n",
            "|113   |0887841740|The Middle Stories                                                                                |Sheila Heti         |2004|\n",
            "|114   |1552041778|Jane Doe                                                                                          |R. J. Kaiser        |1999|\n",
            "|115   |1558746218|A Second Chicken Soup for the Woman's Soul (Chicken Soup for the Soul Series)                     |Jack Canfield       |1998|\n",
            "|116   |1567407781|The Witchfinder (Amos Walker Mystery Series)                                                      |Loren D. Estleman   |1998|\n",
            "|117   |1575663937|More Cunning Than Man: A Social History of Rats and Man                                           |Robert Hendrickson  |1999|\n",
            "|118   |1881320189|Goodbye to the Buttermilk Sky                                                                     |Julia Oliver        |1994|\n",
            "|119   |0440234743|The Testament                                                                                     |John Grisham        |1999|\n",
            "|120   |0452264464|Beloved (Plume Contemporary Fiction)                                                              |Toni Morrison       |1994|\n",
            "+------+----------+--------------------------------------------------------------------------------------------------+--------------------+----+\n",
            "only showing top 20 rows\n",
            "\n",
            "+-------+-----------------+--------------------+--------------------+-----------------+------------------+\n",
            "|summary|           BookSK|              BookBK|            BookName|           Author|              Year|\n",
            "+-------+-----------------+--------------------+--------------------+-----------------+------------------+\n",
            "|  count|           271236|              271236|              271236|           271236|            271236|\n",
            "|   mean|         135718.5|1.0414250058527002E9|            Infinity|           1000.0|1675.5599772891503|\n",
            "| stddev|78299.23314439293|1.4881616872435763E9|                 NaN|1412.799348810722| 730.0247895246532|\n",
            "|    min|              101|          0000913154|           : A Novel|                 |                 0|\n",
            "|    max|           271336|          9999999999|¡Trato hecho!: Sp...|   �?�?ric Holder|              2021|\n",
            "+-------+-----------------+--------------------+--------------------+-----------------+------------------+\n",
            "\n"
          ]
        }
      ]
    },
    {
      "cell_type": "code",
      "source": [
        "DIM_BOOKS.createTempView(\"Books\")\n",
        "\n",
        "spark.sql(\n",
        "    '''\n",
        "    select * from Books\n",
        "    where Year not BETWEEN 1000 AND 2022 and Year !=0\n",
        "    '''\n",
        ").show()"
      ],
      "metadata": {
        "colab": {
          "base_uri": "https://localhost:8080/"
        },
        "id": "pHXP3eJ0jwwL",
        "outputId": "7712ac83-20bd-491e-82c1-251d4c394d4d"
      },
      "execution_count": null,
      "outputs": [
        {
          "output_type": "stream",
          "name": "stdout",
          "text": [
            "+------+------+--------+------+----+\n",
            "|BookSK|BookBK|BookName|Author|Year|\n",
            "+------+------+--------+------+----+\n",
            "+------+------+--------+------+----+\n",
            "\n"
          ]
        }
      ]
    },
    {
      "cell_type": "code",
      "source": [
        "spark.sql(\n",
        "    '''\n",
        "    select * from Books\n",
        "    where length(BookBK) != 10\n",
        "    '''\n",
        ").show()"
      ],
      "metadata": {
        "id": "qjseoFru5MxP",
        "colab": {
          "base_uri": "https://localhost:8080/"
        },
        "outputId": "76ce6cc2-5681-49e2-995e-e59405e1c153"
      },
      "execution_count": null,
      "outputs": [
        {
          "output_type": "stream",
          "name": "stdout",
          "text": [
            "+------+------------+--------------------+-------------+----+\n",
            "|BookSK|      BookBK|            BookName|       Author|Year|\n",
            "+------+------------+--------------------+-------------+----+\n",
            "|110325|0486404242\\t|War in Kind: And ...|Stephen Crane|1998|\n",
            "+------+------------+--------------------+-------------+----+\n",
            "\n"
          ]
        }
      ]
    },
    {
      "cell_type": "code",
      "source": [
        "DIM_BOOKS = spark.sql(\n",
        "    '''\n",
        "    select * from Books\n",
        "    where length(BookBK) = 10\n",
        "    '''\n",
        ")"
      ],
      "metadata": {
        "id": "dbI8el924diy"
      },
      "execution_count": null,
      "outputs": []
    },
    {
      "cell_type": "code",
      "source": [
        "DIM_BOOKS.createTempView(\"xxx\")\n",
        "\n",
        "spark.sql(\n",
        "    '''\n",
        "    select * from xxx\n",
        "    where length(BookBK) != 10\n",
        "    '''\n",
        ").show()"
      ],
      "metadata": {
        "colab": {
          "base_uri": "https://localhost:8080/"
        },
        "id": "6KkaYf_L49hf",
        "outputId": "d8c32d71-73c2-4a09-bd1b-89f9355042ef"
      },
      "execution_count": null,
      "outputs": [
        {
          "output_type": "stream",
          "name": "stdout",
          "text": [
            "+------+------+--------+------+----+\n",
            "|BookSK|BookBK|BookName|Author|Year|\n",
            "+------+------+--------+------+----+\n",
            "+------+------+--------+------+----+\n",
            "\n"
          ]
        }
      ]
    },
    {
      "cell_type": "code",
      "source": [
        "pandasDF = DIM_BOOKS.toPandas()\n",
        "pandasDF.to_csv(r'/content/drive/MyDrive/Books_Rating/Fixed_CSV/DIM_BOOKS.csv',mode='w+', encoding='utf-8', index=False)"
      ],
      "metadata": {
        "id": "x4LJP7PThss9"
      },
      "execution_count": null,
      "outputs": []
    },
    {
      "cell_type": "code",
      "execution_count": null,
      "metadata": {
        "id": "MzHOiIpwNAD9"
      },
      "outputs": [],
      "source": [
        "spark.stop()"
      ]
    }
  ]
}