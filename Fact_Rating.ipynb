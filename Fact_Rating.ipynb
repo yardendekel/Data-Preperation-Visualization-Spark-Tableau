{
  "nbformat": 4,
  "nbformat_minor": 0,
  "metadata": {
    "colab": {
      "provenance": []
    },
    "kernelspec": {
      "name": "python3",
      "display_name": "Python 3"
    },
    "language_info": {
      "name": "python"
    }
  },
  "cells": [
    {
      "cell_type": "code",
      "execution_count": null,
      "metadata": {
        "colab": {
          "base_uri": "https://localhost:8080/"
        },
        "id": "UvV2XlTQbwan",
        "outputId": "7b062aca-9663-44ea-f145-3a0e757570ca"
      },
      "outputs": [
        {
          "output_type": "stream",
          "name": "stdout",
          "text": [
            "\u001b[33m\r0% [Working]\u001b[0m\r            \rGet:1 http://security.ubuntu.com/ubuntu bionic-security InRelease [88.7 kB]\n",
            "\u001b[33m\r0% [Waiting for headers] [1 InRelease 14.2 kB/88.7 kB 16%] [Connected to cloud.\u001b[0m\r                                                                               \rHit:2 http://archive.ubuntu.com/ubuntu bionic InRelease\n",
            "\u001b[33m\r0% [Waiting for headers] [1 InRelease 54.7 kB/88.7 kB 62%] [Connected to cloud.\u001b[0m\r                                                                               \rGet:3 http://archive.ubuntu.com/ubuntu bionic-updates InRelease [88.7 kB]\n",
            "\u001b[33m\r0% [3 InRelease 15.6 kB/88.7 kB 18%] [1 InRelease 54.7 kB/88.7 kB 62%] [Waiting\u001b[0m\u001b[33m\r0% [2 InRelease gpgv 242 kB] [3 InRelease 15.6 kB/88.7 kB 18%] [1 InRelease 57.\u001b[0m\r                                                                               \rGet:4 https://cloud.r-project.org/bin/linux/ubuntu bionic-cran40/ InRelease [3,626 B]\n",
            "\u001b[33m\r0% [2 InRelease gpgv 242 kB] [3 InRelease 24.3 kB/88.7 kB 27%] [1 InRelease 75.\u001b[0m\u001b[33m\r0% [2 InRelease gpgv 242 kB] [3 InRelease 38.8 kB/88.7 kB 44%] [Waiting for hea\u001b[0m\u001b[33m\r0% [2 InRelease gpgv 242 kB] [Waiting for headers] [Waiting for headers] [Waiti\u001b[0m\r                                                                               \rIgn:5 https://developer.download.nvidia.com/compute/machine-learning/repos/ubuntu1804/x86_64  InRelease\n",
            "\u001b[33m\r                                                                               \r0% [2 InRelease gpgv 242 kB] [Waiting for headers] [Waiting for headers]\u001b[0m\r                                                                        \rHit:6 http://ppa.launchpad.net/c2d4u.team/c2d4u4.0+/ubuntu bionic InRelease\n",
            "\u001b[33m\r0% [2 InRelease gpgv 242 kB] [Waiting for headers] [Waiting for headers]\u001b[0m\r                                                                        \rGet:7 https://developer.download.nvidia.com/compute/cuda/repos/ubuntu1804/x86_64  InRelease [1,581 B]\n",
            "\u001b[33m\r0% [2 InRelease gpgv 242 kB] [Waiting for headers] [7 InRelease 1,581 B/1,581 B\u001b[0m\u001b[33m\r0% [2 InRelease gpgv 242 kB] [Waiting for headers] [Connecting to ppa.launchpad\u001b[0m\r                                                                               \rGet:8 http://archive.ubuntu.com/ubuntu bionic-backports InRelease [83.3 kB]\n",
            "Hit:9 https://developer.download.nvidia.com/compute/machine-learning/repos/ubuntu1804/x86_64  Release\n",
            "Hit:10 http://ppa.launchpad.net/cran/libgit2/ubuntu bionic InRelease\n",
            "Hit:11 http://ppa.launchpad.net/deadsnakes/ppa/ubuntu bionic InRelease\n",
            "Hit:12 http://ppa.launchpad.net/graphics-drivers/ppa/ubuntu bionic InRelease\n",
            "Get:13 http://security.ubuntu.com/ubuntu bionic-security/universe amd64 Packages [1,561 kB]\n",
            "Get:14 http://security.ubuntu.com/ubuntu bionic-security/main amd64 Packages [3,067 kB]\n",
            "Get:15 http://archive.ubuntu.com/ubuntu bionic-updates/main amd64 Packages [3,493 kB]\n",
            "Get:16 http://archive.ubuntu.com/ubuntu bionic-updates/universe amd64 Packages [2,338 kB]\n",
            "Get:17 https://developer.download.nvidia.com/compute/cuda/repos/ubuntu1804/x86_64  Packages [1,038 kB]\n",
            "Fetched 11.8 MB in 8s (1,504 kB/s)\n",
            "Reading package lists... Done\n",
            "Building dependency tree       \n",
            "Reading state information... Done\n",
            "9 packages can be upgraded. Run 'apt list --upgradable' to see them.\n",
            "Looking in indexes: https://pypi.org/simple, https://us-python.pkg.dev/colab-wheels/public/simple/\n",
            "Collecting isbnlib\n",
            "  Downloading isbnlib-3.10.12-py2.py3-none-any.whl (66 kB)\n",
            "\u001b[K     |████████████████████████████████| 66 kB 1.3 MB/s \n",
            "\u001b[?25hInstalling collected packages: isbnlib\n",
            "Successfully installed isbnlib-3.10.12\n"
          ]
        }
      ],
      "source": [
        "!apt update\n",
        "!apt-get install openjdk-8-jdk-headless -qq > /dev/null  \n",
        "!wget -q https://dlcdn.apache.org/spark/spark-3.3.1/spark-3.3.1-bin-hadoop3.tgz\n",
        "!tar xf spark-3.3.1-bin-hadoop3.tgz  \n",
        "!pip install -q findspark\n",
        "!pip install isbnlib\n",
        "\n",
        "import os\n",
        "os.environ[\"JAVA_HOME\"] = \"/usr/lib/jvm/java-8-openjdk-amd64\"\n",
        "os.environ[\"SPARK_HOME\"] = \"/content/spark-3.3.1-bin-hadoop3\""
      ]
    },
    {
      "cell_type": "code",
      "source": [
        "import findspark\n",
        "findspark.init(\"spark-3.3.1-bin-hadoop3\")\n",
        "from pyspark.sql import SparkSession\n",
        "spark = SparkSession.builder.master(\"local[*]\").getOrCreate()\n",
        "from pyspark.sql import Row\n",
        "import pyspark.sql.functions as f\n",
        "from pyspark.sql.functions import format_number\n",
        "from pyspark.sql.functions import col, split, when\n",
        "import pandas as pd\n",
        "spark = SparkSession.builder.appName(\"Basic\").getOrCreate()\n",
        "import requests as req\n",
        "from pyspark.sql.functions import regexp_replace\n",
        "from pyspark.sql.functions import ltrim\n",
        "from pyspark.sql.functions import *\n",
        "from isbnlib import is_isbn10, is_isbn13\n",
        "from pyspark.sql.types import StructType, StructField, IntegerType, StringType\n",
        "from pyspark.sql.functions import col,isnan,when,count\n",
        "from pyspark.sql.functions import row_number, monotonically_increasing_id\n",
        "from pyspark.sql import Window\n",
        "from pyspark.sql.functions import trim\n",
        "import pandas as pd"
      ],
      "metadata": {
        "id": "1bco_snjb-Z2"
      },
      "execution_count": null,
      "outputs": []
    },
    {
      "cell_type": "code",
      "source": [
        "from google.colab import drive\n",
        "drive.mount('/content/drive')"
      ],
      "metadata": {
        "colab": {
          "base_uri": "https://localhost:8080/"
        },
        "id": "ozXoT3gecJcU",
        "outputId": "45b6bf33-5e3c-4b3f-8cbd-bf29ea6d390e"
      },
      "execution_count": null,
      "outputs": [
        {
          "output_type": "stream",
          "name": "stdout",
          "text": [
            "Mounted at /content/drive\n"
          ]
        }
      ]
    },
    {
      "cell_type": "code",
      "source": [
        "Rating = spark.read.option(\"header\", True).csv('/content/drive/MyDrive/Books_Rating/DataBase/BX-Book-Ratings.csv')\n",
        "Rating.show(truncate = False)"
      ],
      "metadata": {
        "colab": {
          "base_uri": "https://localhost:8080/"
        },
        "id": "CbYmQCVgeFmi",
        "outputId": "7b5dcd69-825d-49ef-c7fd-835c89ade247"
      },
      "execution_count": null,
      "outputs": [
        {
          "output_type": "stream",
          "name": "stdout",
          "text": [
            "+----------------------------------+----+----+\n",
            "|\"User-ID;\"\"ISBN\"\";\"\"Book-Rating\"\"\"|_c1 |_c2 |\n",
            "+----------------------------------+----+----+\n",
            "|\"276725;\"\"034545104X\"\";\"\"0\"\"\"     |null|null|\n",
            "|\"276726;\"\"0155061224\"\";\"\"5\"\"\"     |null|null|\n",
            "|\"276727;\"\"0446520802\"\";\"\"0\"\"\"     |null|null|\n",
            "|\"276729;\"\"052165615X\"\";\"\"3\"\"\"     |null|null|\n",
            "|\"276729;\"\"0521795028\"\";\"\"6\"\"\"     |null|null|\n",
            "|\"276733;\"\"2080674722\"\";\"\"0\"\"\"     |null|null|\n",
            "|\"276736;\"\"3257224281\"\";\"\"8\"\"\"     |null|null|\n",
            "|\"276737;\"\"0600570967\"\";\"\"6\"\"\"     |null|null|\n",
            "|\"276744;\"\"038550120X\"\";\"\"7\"\"\"     |null|null|\n",
            "|\"276745;\"\"342310538\"\";\"\"10\"\"\"     |null|null|\n",
            "|\"276746;\"\"0425115801\"\";\"\"0\"\"\"     |null|null|\n",
            "|\"276746;\"\"0449006522\"\";\"\"0\"\"\"     |null|null|\n",
            "|\"276746;\"\"0553561618\"\";\"\"0\"\"\"     |null|null|\n",
            "|\"276746;\"\"055356451X\"\";\"\"0\"\"\"     |null|null|\n",
            "|\"276746;\"\"0786013990\"\";\"\"0\"\"\"     |null|null|\n",
            "|\"276746;\"\"0786014512\"\";\"\"0\"\"\"     |null|null|\n",
            "|\"276747;\"\"0060517794\"\";\"\"9\"\"\"     |null|null|\n",
            "|\"276747;\"\"0451192001\"\";\"\"0\"\"\"     |null|null|\n",
            "|\"276747;\"\"0609801279\"\";\"\"0\"\"\"     |null|null|\n",
            "|\"276747;\"\"0671537458\"\";\"\"9\"\"\"     |null|null|\n",
            "+----------------------------------+----+----+\n",
            "only showing top 20 rows\n",
            "\n"
          ]
        }
      ]
    },
    {
      "cell_type": "code",
      "source": [
        "Rating = Rating.drop(\"_c1\", \"_c2\").withColumnRenamed('\"User-ID;\"\"ISBN\"\";\"\"Book-Rating\"\"\"', \"User-ID\").withColumn('User-ID', regexp_replace('User-ID', '\"', ''))\n",
        "Rating = Rating.withColumn('UserID', split(Rating['User-ID'], ';').getItem(0)) \\\n",
        "       .withColumn('ISBN', split(Rating['User-ID'], ';').getItem(1)) \\\n",
        "       .withColumn('Rating', split(Rating['User-ID'], ';').getItem(2))\n",
        "Rating = Rating.drop(\"User-ID\")"
      ],
      "metadata": {
        "id": "I2zYYuhTeFrx"
      },
      "execution_count": null,
      "outputs": []
    },
    {
      "cell_type": "code",
      "source": [
        "Rating = Rating.withColumn(\"UserID\",ltrim(col(\"UserID\"))).withColumn(\"Rating\",ltrim(col(\"Rating\"))).withColumn(\"ISBN\",ltrim(col(\"ISBN\"))) \\\n",
        "        .withColumn(\"ISBN\",trim(col(\"ISBN\"))).withColumn(\"UserID\",trim(col(\"UserID\"))).withColumn(\"Rating\",trim(col(\"Rating\")))"
      ],
      "metadata": {
        "id": "ZMd13yKeCMG0"
      },
      "execution_count": null,
      "outputs": []
    },
    {
      "cell_type": "code",
      "source": [
        "ValidISBN = []\n",
        "InvalidISBN = []\n",
        "\n",
        "row_listBOOKRATINGS = Rating.collect()\n",
        "\n",
        "for i in row_listBOOKRATINGS:\n",
        "  if (is_isbn10(i.__getitem__('ISBN')) == True):\n",
        "    ValidISBN.append(i)\n",
        "  else:\n",
        "    InvalidISBN.append(i) \n",
        "\n",
        "InvalidISBN_ONLY = []\n",
        "for i in InvalidISBN:\n",
        "  InvalidISBN_ONLY.append(i.__getitem__('ISBN')) \n",
        "\n",
        "Rating = Rating.filter(~col('ISBN').isin(InvalidISBN_ONLY))\n",
        "\n",
        "Rating = Rating.withColumnRenamed('UserID', 'UserBK').withColumnRenamed('ISBN', 'BookBK')"
      ],
      "metadata": {
        "id": "xgOQ1JN1PoTQ"
      },
      "execution_count": null,
      "outputs": []
    },
    {
      "cell_type": "code",
      "source": [
        "Rating = Rating.withColumn(\"RatingSK\", row_number().over(Window.orderBy(monotonically_increasing_id()))+100)\n",
        "FACT_RATING = Rating.select('RatingSK', 'UserBK', 'BookBK', 'Rating')\n",
        "\n",
        "FACT_RATING.show(truncate=False)\n",
        "FACT_RATING.describe().show(truncate=False)"
      ],
      "metadata": {
        "colab": {
          "base_uri": "https://localhost:8080/"
        },
        "id": "-UBUOpLtPovZ",
        "outputId": "2b3ebe0c-7d7c-496c-f4b7-d0e1a91c8e7f"
      },
      "execution_count": null,
      "outputs": [
        {
          "output_type": "stream",
          "name": "stdout",
          "text": [
            "+--------+------+----------+------+\n",
            "|RatingSK|UserBK|BookBK    |Rating|\n",
            "+--------+------+----------+------+\n",
            "|101     |276725|034545104X|0     |\n",
            "|102     |276726|0155061224|5     |\n",
            "|103     |276727|0446520802|0     |\n",
            "|104     |276729|052165615X|3     |\n",
            "|105     |276729|0521795028|6     |\n",
            "|106     |276733|2080674722|0     |\n",
            "|107     |276736|3257224281|8     |\n",
            "|108     |276737|0600570967|6     |\n",
            "|109     |276744|038550120X|7     |\n",
            "|110     |276746|0425115801|0     |\n",
            "|111     |276746|0449006522|0     |\n",
            "|112     |276746|0553561618|0     |\n",
            "|113     |276746|055356451X|0     |\n",
            "|114     |276746|0786013990|0     |\n",
            "|115     |276746|0786014512|0     |\n",
            "|116     |276747|0060517794|9     |\n",
            "|117     |276747|0451192001|0     |\n",
            "|118     |276747|0609801279|0     |\n",
            "|119     |276747|0671537458|9     |\n",
            "|120     |276747|0679776818|8     |\n",
            "+--------+------+----------+------+\n",
            "only showing top 20 rows\n",
            "\n",
            "+-------+-----------------+------------------+--------------------+------------------+\n",
            "|summary|RatingSK         |UserBK            |BookBK              |Rating            |\n",
            "+-------+-----------------+------------------+--------------------+------------------+\n",
            "|count  |1034693          |1034693           |1034693             |1034693           |\n",
            "|mean   |517447.0         |128514.61029020202|9.79731623920095E8  |2.873615885770286 |\n",
            "|stddev |298690.2853768431|74211.1893926324  |1.6344760229282558E9|3.8565295740219407|\n",
            "|min    |101              |10                |#069580216X         |0                 |\n",
            "|max    |1034793          |99998             |�3499128624         |9                 |\n",
            "+-------+-----------------+------------------+--------------------+------------------+\n",
            "\n"
          ]
        }
      ]
    },
    {
      "cell_type": "code",
      "source": [
        "FACT_RATING.createTempView(\"Rating\")\n",
        "\n",
        "FACT_RATING = spark.sql(\n",
        "    '''\n",
        "    select * from Rating\n",
        "    where length(BookBK) = 10\n",
        "    '''\n",
        ")"
      ],
      "metadata": {
        "id": "mspCSs8lkSVn"
      },
      "execution_count": null,
      "outputs": []
    },
    {
      "cell_type": "code",
      "source": [
        "FACT_RATING.createTempView(\"BooksRating\")\n",
        "\n",
        "spark.sql(\n",
        "    '''\n",
        "    select * from BooksRating\n",
        "    where length(BookBK) != 10\n",
        "    '''\n",
        ").show()"
      ],
      "metadata": {
        "colab": {
          "base_uri": "https://localhost:8080/"
        },
        "id": "yhEpAsRrloVz",
        "outputId": "7b72ca83-ffb9-4f42-87b5-c1a7a8862a73"
      },
      "execution_count": null,
      "outputs": [
        {
          "output_type": "stream",
          "name": "stdout",
          "text": [
            "+--------+------+------+------+\n",
            "|RatingSK|UserBK|BookBK|Rating|\n",
            "+--------+------+------+------+\n",
            "+--------+------+------+------+\n",
            "\n"
          ]
        }
      ]
    },
    {
      "cell_type": "code",
      "source": [
        "pandasDF = FACT_RATING.toPandas()\n",
        "pandasDF.to_csv(r'/content/drive/MyDrive/Books_Rating/Fixed_CSV/FACT_RATING.csv',mode='w+', encoding='utf-8', index=False)"
      ],
      "metadata": {
        "id": "0UH-4SQkeyFD"
      },
      "execution_count": null,
      "outputs": []
    },
    {
      "cell_type": "code",
      "source": [
        "spark.stop()"
      ],
      "metadata": {
        "id": "CXHw3ZpSygyO"
      },
      "execution_count": null,
      "outputs": []
    }
  ]
}