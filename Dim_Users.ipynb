{
  "nbformat": 4,
  "nbformat_minor": 0,
  "metadata": {
    "colab": {
      "provenance": []
    },
    "kernelspec": {
      "name": "python3",
      "display_name": "Python 3"
    },
    "language_info": {
      "name": "python"
    }
  },
  "cells": [
    {
      "cell_type": "code",
      "execution_count": null,
      "metadata": {
        "colab": {
          "base_uri": "https://localhost:8080/"
        },
        "id": "gLMdNAIbIT-w",
        "outputId": "34fee864-fed1-4cd3-9b93-b287579fc043"
      },
      "outputs": [
        {
          "output_type": "stream",
          "name": "stdout",
          "text": [
            "Hit:1 http://ppa.launchpad.net/c2d4u.team/c2d4u4.0+/ubuntu bionic InRelease\n",
            "Hit:2 http://archive.ubuntu.com/ubuntu bionic InRelease\n",
            "Get:3 http://archive.ubuntu.com/ubuntu bionic-updates InRelease [88.7 kB]\n",
            "Get:4 http://security.ubuntu.com/ubuntu bionic-security InRelease [88.7 kB]\n",
            "Get:5 https://cloud.r-project.org/bin/linux/ubuntu bionic-cran40/ InRelease [3,626 B]\n",
            "Hit:6 http://ppa.launchpad.net/cran/libgit2/ubuntu bionic InRelease\n",
            "Hit:7 http://ppa.launchpad.net/deadsnakes/ppa/ubuntu bionic InRelease\n",
            "Hit:8 http://ppa.launchpad.net/graphics-drivers/ppa/ubuntu bionic InRelease\n",
            "Ign:9 https://developer.download.nvidia.com/compute/machine-learning/repos/ubuntu1804/x86_64  InRelease\n",
            "Get:10 https://developer.download.nvidia.com/compute/cuda/repos/ubuntu1804/x86_64  InRelease [1,581 B]\n",
            "Hit:11 https://developer.download.nvidia.com/compute/machine-learning/repos/ubuntu1804/x86_64  Release\n",
            "Get:12 http://archive.ubuntu.com/ubuntu bionic-backports InRelease [83.3 kB]\n",
            "Get:13 https://developer.download.nvidia.com/compute/cuda/repos/ubuntu1804/x86_64  Packages [1,038 kB]\n",
            "Get:15 http://security.ubuntu.com/ubuntu bionic-security/universe amd64 Packages [1,563 kB]\n",
            "Get:16 http://archive.ubuntu.com/ubuntu bionic-updates/restricted amd64 Packages [1,303 kB]\n",
            "Get:17 http://security.ubuntu.com/ubuntu bionic-security/main amd64 Packages [3,068 kB]\n",
            "Get:18 http://archive.ubuntu.com/ubuntu bionic-updates/main amd64 Packages [3,496 kB]\n",
            "Get:19 http://archive.ubuntu.com/ubuntu bionic-updates/universe amd64 Packages [2,338 kB]\n",
            "Fetched 13.1 MB in 5s (2,810 kB/s)\n",
            "Reading package lists... Done\n",
            "Building dependency tree       \n",
            "Reading state information... Done\n",
            "11 packages can be upgraded. Run 'apt list --upgradable' to see them.\n",
            "W: Operation was interrupted before it could finish\n",
            "^C\n",
            "\n",
            "gzip: stdin: unexpected end of file\n",
            "tar: Unexpected EOF in archive\n",
            "tar: Unexpected EOF in archive\n",
            "tar: Error is not recoverable: exiting now\n",
            "\u001b[31mERROR: Operation cancelled by user\u001b[0m\n",
            "Looking in indexes: https://pypi.org/simple, https://us-python.pkg.dev/colab-wheels/public/simple/\n",
            "Collecting pycountry\n",
            "  Downloading pycountry-22.3.5.tar.gz (10.1 MB)\n",
            "\u001b[K     |████████████████████████████████| 10.1 MB 11.6 MB/s \n",
            "\u001b[?25h  Installing build dependencies ... \u001b[?25l\u001b[?25hdone\n",
            "  Getting requirements to build wheel ... \u001b[?25l\u001b[?25hdone\n",
            "    Preparing wheel metadata ... \u001b[?25l\u001b[?25hdone\n",
            "Requirement already satisfied: setuptools in /usr/local/lib/python3.7/dist-packages (from pycountry) (57.4.0)\n",
            "Building wheels for collected packages: pycountry\n"
          ]
        }
      ],
      "source": [
        "!apt update\n",
        "!apt-get install openjdk-8-jdk-headless -qq > /dev/null  \n",
        "!wget -q https://dlcdn.apache.org/spark/spark-3.3.1/spark-3.3.1-bin-hadoop3.tgz\n",
        "!tar xf spark-3.3.1-bin-hadoop3.tgz  \n",
        "!pip install -q findspark\n",
        "!pip install pycountry\n",
        "!pip install isbnlib\n",
        "\n",
        "import os\n",
        "os.environ[\"JAVA_HOME\"] = \"/usr/lib/jvm/java-8-openjdk-amd64\"\n",
        "os.environ[\"SPARK_HOME\"] = \"/content/spark-3.3.1-bin-hadoop3\""
      ]
    },
    {
      "cell_type": "code",
      "source": [
        "import findspark\n",
        "findspark.init(\"spark-3.3.1-bin-hadoop3\")\n",
        "from pyspark.sql import SparkSession\n",
        "spark = SparkSession.builder.master(\"local[*]\").getOrCreate()\n",
        "from pyspark.sql import Row\n",
        "import pyspark.sql.functions as f\n",
        "from pyspark.sql.functions import format_number\n",
        "from pyspark.sql.functions import col, split, when\n",
        "import pandas as pd\n",
        "spark = SparkSession.builder.appName(\"Basic\").getOrCreate()\n",
        "import requests as req\n",
        "from pyspark.sql.functions import regexp_replace\n",
        "from pyspark.sql.functions import ltrim\n",
        "from pyspark.sql.functions import *\n",
        "import pycountry\n",
        "from isbnlib import is_isbn10, is_isbn13\n",
        "from pyspark.sql.types import StructType, StructField, IntegerType, StringType\n",
        "from pyspark.sql.functions import col,isnan,when,count\n",
        "from pyspark.sql.functions import row_number, monotonically_increasing_id\n",
        "from pyspark.sql import Window\n",
        "from pyspark.sql.functions import trim\n",
        "import pandas as pd"
      ],
      "metadata": {
        "id": "WRd-y7unIlSk"
      },
      "execution_count": null,
      "outputs": []
    },
    {
      "cell_type": "code",
      "source": [
        "from google.colab import drive\n",
        "drive.mount('/content/drive')"
      ],
      "metadata": {
        "id": "BOGZYJYKIpEE"
      },
      "execution_count": null,
      "outputs": []
    },
    {
      "cell_type": "code",
      "source": [
        "Users = spark.read.option(\"header\", True).csv('/content/drive/MyDrive/Books_Rating/DataBase/BX-Users.csv')\n",
        "Users.show(truncate = False)"
      ],
      "metadata": {
        "id": "OZxiHttoMy38"
      },
      "execution_count": null,
      "outputs": []
    },
    {
      "cell_type": "code",
      "source": [
        "Users = Users.withColumnRenamed('\"User-ID;\"\"Location\"\";\"\"Age\"\"\"', 'User-ID')\n",
        "Users = Users.withColumn('User-ID', regexp_replace('User-ID', '\"', ''))"
      ],
      "metadata": {
        "id": "YodKAVAuRvyE"
      },
      "execution_count": null,
      "outputs": []
    },
    {
      "cell_type": "code",
      "source": [
        "Users = Users.withColumn('UserID', split(Users['User-ID'], ';').getItem(0)) \\\n",
        "       .withColumn('Location', split(Users['User-ID'], ';').getItem(1)) \\\n",
        "       .withColumn('Age', split(Users['User-ID'], ';').getItem(2))\n",
        "Users = Users.drop(\"User-ID\", '\"').withColumn(\"Age\",col(\"Age\").cast(\"int\"))\n",
        "Users = Users.na.fill(value=0,subset=[\"Age\"])\n",
        "Users = Users.filter(Users['Location'].isNotNull())\n",
        "Users = Users.withColumn(\"last_word\", f.element_at(f.split(\"location\",\" \"),-1))"
      ],
      "metadata": {
        "id": "GR9Pvf2BUCsD"
      },
      "execution_count": null,
      "outputs": []
    },
    {
      "cell_type": "code",
      "source": [
        "rows = Users.select('Location').collect()\n",
        "\n",
        "countries = list(pycountry.countries)\n",
        "countries\n",
        "c = []\n",
        "for country in countries:\n",
        "  c.append(country.name)"
      ],
      "metadata": {
        "id": "9xIBu0j2XG-b"
      },
      "execution_count": null,
      "outputs": []
    },
    {
      "cell_type": "code",
      "source": [
        "DistinctList = Users.select(f.collect_set('last_word')).collect()[0][0]\n",
        "\n",
        "Users = Users.replace(['kingdom', 'usa', 'Zealand', 'Russia', 'Taiwan', 'Arabia', 'Vietnam', 'Iran'], \\\n",
        "                      ['united kingdom', 'united states', 'New Zealand', 'Russian Federation', 'Taiwan, Province of China', 'Saudi Arabia', 'Viet Nam', 'Iran, Islamic Republic of'], 'last_word')\n",
        "Users = Users.withColumn(\"UserID\",ltrim(col(\"UserID\"))).withColumn(\"Age\",ltrim(col(\"Age\"))).withColumn(\"last_word\",ltrim(col(\"last_word\"))) \\\n",
        "        .withColumn('last_word', regexp_replace('last_word', \"None\", 'Unknown')).withColumn(\"last_word\", when(col(\"last_word\")==\"\" ,'Unknown').otherwise(col(\"last_word\")))\n",
        "        \n",
        "Users.show(truncate = False)\n",
        "print((Users.count(), len(Users.columns)))"
      ],
      "metadata": {
        "id": "ZsSeIA9BXIim",
        "colab": {
          "base_uri": "https://localhost:8080/"
        },
        "outputId": "41149f91-b1e0-4877-c987-21ce3e29e565"
      },
      "execution_count": null,
      "outputs": [
        {
          "output_type": "stream",
          "name": "stdout",
          "text": [
            "+------+------------------------------------+---+--------------+\n",
            "|UserID|Location                            |Age|last_word     |\n",
            "+------+------------------------------------+---+--------------+\n",
            "|1     |nyc new york usa                    |0  |united states |\n",
            "|2     |stockton california usa             |18 |united states |\n",
            "|3     |moscow yukon territory russia       |0  |russia        |\n",
            "|4     |porto v.n.gaia portugal             |17 |portugal      |\n",
            "|5     |farnborough hants united kingdom    |0  |united kingdom|\n",
            "|6     |santa monica california usa         |61 |united states |\n",
            "|7     |washington dc usa                   |0  |united states |\n",
            "|8     |timmins ontario canada              |0  |canada        |\n",
            "|9     |germantown tennessee usa            |0  |united states |\n",
            "|10    |albacete wisconsin spain            |26 |spain         |\n",
            "|11    |melbourne victoria australia        |14 |australia     |\n",
            "|12    |fort bragg california usa           |0  |united states |\n",
            "|13    |barcelona barcelona spain           |26 |spain         |\n",
            "|14    |mediapolis iowa usa                 |0  |united states |\n",
            "|15    |calgary alberta canada              |0  |canada        |\n",
            "|16    |albuquerque new mexico usa          |0  |united states |\n",
            "|17    |chesapeake virginia usa             |0  |united states |\n",
            "|18    |rio de janeiro rio de janeiro brazil|25 |brazil        |\n",
            "|19    |weston                              |14 |Unknown       |\n",
            "|20    |langhorne pennsylvania usa          |19 |united states |\n",
            "+------+------------------------------------+---+--------------+\n",
            "only showing top 20 rows\n",
            "\n",
            "(278859, 4)\n"
          ]
        }
      ]
    },
    {
      "cell_type": "code",
      "source": [
        "Users = Users.withColumn(\"last_word\", initcap(col('last_word')))\n",
        "Users = Users.withColumn(\"last_word\", when(col(\"last_word\").isin(c), Users.last_word).otherwise(\"Unknown\"))\n",
        "Users = Users.drop('Location').withColumnRenamed('last_word', 'Country')\n",
        "\n",
        "Users.show(truncate = False)\n",
        "print((Users.count(), len(Users.columns)))"
      ],
      "metadata": {
        "id": "1R1fZfhxRSSS",
        "colab": {
          "base_uri": "https://localhost:8080/"
        },
        "outputId": "2caf13b8-1c71-4a3b-dcf2-fffc5b2dee56"
      },
      "execution_count": null,
      "outputs": [
        {
          "output_type": "stream",
          "name": "stdout",
          "text": [
            "+------+---+--------------+\n",
            "|UserID|Age|Country       |\n",
            "+------+---+--------------+\n",
            "|1     |0  |United States |\n",
            "|2     |18 |United States |\n",
            "|3     |0  |Unknown       |\n",
            "|4     |17 |Portugal      |\n",
            "|5     |0  |United Kingdom|\n",
            "|6     |61 |United States |\n",
            "|7     |0  |United States |\n",
            "|8     |0  |Canada        |\n",
            "|9     |0  |United States |\n",
            "|10    |26 |Spain         |\n",
            "|11    |14 |Australia     |\n",
            "|12    |0  |United States |\n",
            "|13    |26 |Spain         |\n",
            "|14    |0  |United States |\n",
            "|15    |0  |Canada        |\n",
            "|16    |0  |United States |\n",
            "|17    |0  |United States |\n",
            "|18    |25 |Brazil        |\n",
            "|19    |14 |Unknown       |\n",
            "|20    |19 |United States |\n",
            "+------+---+--------------+\n",
            "only showing top 20 rows\n",
            "\n",
            "(278859, 3)\n"
          ]
        }
      ]
    },
    {
      "cell_type": "code",
      "source": [
        "Users = Users.filter(col(\"UserID\") != 'unknown') \n",
        "Users = Users.withColumnRenamed('UserID', 'UserBK')\n",
        "Users = Users.withColumn(\"UserSK\", row_number().over(Window.orderBy(monotonically_increasing_id()))+100)\n",
        "Users = Users.select('UserSK', 'UserBK', 'Country', 'Age')\n",
        "\n",
        "DIM_USERS = Users\n",
        "DIM_USERS.show()\n",
        "DIM_USERS.describe().show()  "
      ],
      "metadata": {
        "colab": {
          "base_uri": "https://localhost:8080/"
        },
        "id": "Pd6A8ajIMZY8",
        "outputId": "58050653-54d5-4885-a075-12f7b7ac19ae"
      },
      "execution_count": null,
      "outputs": [
        {
          "output_type": "stream",
          "name": "stdout",
          "text": [
            "+------+------+--------------+---+\n",
            "|UserSK|UserBK|       Country|Age|\n",
            "+------+------+--------------+---+\n",
            "|   101|     1| United States|  0|\n",
            "|   102|     2| United States| 18|\n",
            "|   103|     3|       Unknown|  0|\n",
            "|   104|     4|      Portugal| 17|\n",
            "|   105|     5|United Kingdom|  0|\n",
            "|   106|     6| United States| 61|\n",
            "|   107|     7| United States|  0|\n",
            "|   108|     8|        Canada|  0|\n",
            "|   109|     9| United States|  0|\n",
            "|   110|    10|         Spain| 26|\n",
            "|   111|    11|     Australia| 14|\n",
            "|   112|    12| United States|  0|\n",
            "|   113|    13|         Spain| 26|\n",
            "|   114|    14| United States|  0|\n",
            "|   115|    15|        Canada|  0|\n",
            "|   116|    16| United States|  0|\n",
            "|   117|    17| United States|  0|\n",
            "|   118|    18|        Brazil| 25|\n",
            "|   119|    19|       Unknown| 14|\n",
            "|   120|    20| United States| 19|\n",
            "+------+------+--------------+---+\n",
            "only showing top 20 rows\n",
            "\n",
            "+-------+-----------------+-----------------+-----------+------------------+\n",
            "|summary|           UserSK|           UserBK|    Country|               Age|\n",
            "+-------+-----------------+-----------------+-----------+------------------+\n",
            "|  count|           278859|           278859|     278859|            278859|\n",
            "|   mean|         139530.0|         139429.5|       null|20.937936376448313|\n",
            "| stddev|80499.80369541282|80499.51502027822|       null| 20.36638552825994|\n",
            "|    min|              101|                1|Afghanistan|                 0|\n",
            "|    max|           278959|      milan italy|   Zimbabwe|                99|\n",
            "+-------+-----------------+-----------------+-----------+------------------+\n",
            "\n"
          ]
        }
      ]
    },
    {
      "cell_type": "code",
      "source": [
        "DIM_USERS.createTempView(\"Users\")\n",
        "\n",
        "spark.sql(\n",
        "    '''\n",
        "    select count(Country) as Unknown from Users\n",
        "    where Country = 'Unknown'\n",
        "    '''\n",
        ").show()"
      ],
      "metadata": {
        "colab": {
          "base_uri": "https://localhost:8080/"
        },
        "id": "Q0ZJ_gitmn0T",
        "outputId": "d8d8a084-2d77-4485-b1e7-98d1f2393b20"
      },
      "execution_count": null,
      "outputs": [
        {
          "output_type": "stream",
          "name": "stdout",
          "text": [
            "+-------+\n",
            "|Unknown|\n",
            "+-------+\n",
            "|  11509|\n",
            "+-------+\n",
            "\n"
          ]
        }
      ]
    },
    {
      "cell_type": "code",
      "source": [
        "pandasDF = DIM_USERS.toPandas()\n",
        "pandasDF.to_csv(r'/content/drive/MyDrive/Books_Rating/Fixed_CSV/DIM_USERS.csv',mode='w+', encoding='utf-8', index=False)"
      ],
      "metadata": {
        "id": "v5qIgU4FhhHv"
      },
      "execution_count": null,
      "outputs": []
    },
    {
      "cell_type": "code",
      "source": [
        "spark.stop()"
      ],
      "metadata": {
        "id": "8PvEmE3DP38e"
      },
      "execution_count": null,
      "outputs": []
    }
  ]
}